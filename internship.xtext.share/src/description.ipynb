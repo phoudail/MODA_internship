{
  "metadata" : {},
  "nbformat": 4,
  "nbformat_minor": 0,
  "cells" : [
      {
           "cell_type": "markdown",
           "metadata": {},
           "source": [
            "
            ###object mymoda of class MODA
            **contains :** 
            
            * SocioTechnicalSystem (name: null),
            
            * Data (name: data1),
            
            * Model (name: model1),
            
            * DescriptiveModel (name: descr1),
            
            * PrescriptiveModel (name: prescr1),
            
            * PredictiveModel (name: pred1),
            
            * PrescriptiveModel (name: prescr2),
            
            * Analysis (name: analysis1),
            
            * DataPurpose (name: datap1) (dataKind: ExternalData),
            
            * DataPurpose (name: datap2) (dataKind: InputData),
            
            * DataPurpose (name: datap3) (dataKind: InputData) 
            
            
            **references :**
            
            
            ###object  of class SocioTechnicalSystem
            **contains :** 
            
            * Software (name: soft1) 
            
            
            **references :**
            
            
            ###object soft1 of class Software
            **contains :** 
            
            
            **references :**
            
            * DataPurpose (name: datap1) (dataKind: ExternalData)
            
            
            ###object data1 of class Data
            **contains :** 
            
            
            **references :**
            
            * DataPurpose (name: datap1) (dataKind: ExternalData)
            
            
            ###object model1 of class Model
            **contains :** 
            
            
            **references :**
            
            * PrescriptiveModel (name: prescr1)
            
            
            ###object descr1 of class DescriptiveModel
            **contains :** 
            
            
            **references :**
            
            * Analysis (name: analysis1)
            
            
            ###object prescr1 of class PrescriptiveModel
            **contains :** 
            
            
            **references :**
            
            * Model (name: model1),
            
            * Analysis (name: analysis1)
            
            
            ###object pred1 of class PredictiveModel
            **contains :** 
            
            
            **references :**
            
            
            ###object prescr2 of class PrescriptiveModel
            **contains :** 
            
            
            **references :**
            
            
            ###object analysis1 of class Analysis
            **contains :** 
            
            
            **references :**
            
            * PrescriptiveModel (name: prescr1),
            
            * DescriptiveModel (name: descr1)
            
            
            ###object datap1 of class DataPurpose
            **contains :** 
            
            
            **references :**
            
            * Data (name: data1),
            
            * Software (name: soft1)
            
            
            ###object datap2 of class DataPurpose
            **contains :** 
            
            
            **references :**
            
            
            ###object datap3 of class DataPurpose
            **contains :** 
            
            
            **references :**
            "
           ]
          }
  ],
}
	
